{
 "cells": [
  {
   "cell_type": "code",
   "execution_count": 1,
   "metadata": {},
   "outputs": [
    {
     "name": "stderr",
     "output_type": "stream",
     "text": [
      "C:\\Users\\1004153\\AppData\\Local\\Packages\\PythonSoftwareFoundation.Python.3.10_qbz5n2kfra8p0\\LocalCache\\local-packages\\Python310\\site-packages\\tqdm\\auto.py:21: TqdmWarning: IProgress not found. Please update jupyter and ipywidgets. See https://ipywidgets.readthedocs.io/en/stable/user_install.html\n",
      "  from .autonotebook import tqdm as notebook_tqdm\n"
     ]
    }
   ],
   "source": [
    "import numpy as np\n",
    "import pandas as pd\n",
    "from trend_inf import LinearMethod, ProphetMethod"
   ]
  },
  {
   "cell_type": "code",
   "execution_count": 2,
   "metadata": {},
   "outputs": [],
   "source": [
    "data = pd.read_csv('D:\\Futuretech\\Trend_Modelling\\Car_Sales_Data_1.csv')"
   ]
  },
  {
   "cell_type": "code",
   "execution_count": 3,
   "metadata": {},
   "outputs": [
    {
     "data": {
      "text/plain": [
       "Index(['Date', 'Compact_SUV', 'SUV', 'Sedan', 'Compact_SUV_TamilNadu',\n",
       "       'Compact_SUV_AndraPradesh', 'Compact_SUV_TamilNadu_Dealer1',\n",
       "       'Suv_TamilNadu_Dealer1', 'Sedan_TamilNadu_Dealer1',\n",
       "       'Compact_SUV_TamilNadu_Dealer2', 'Suv_TamilNadu_Dealer2',\n",
       "       'Sedan_TamilNadu_Dealer2', 'Compact_SUV_TamilNadu_Dealer3',\n",
       "       'Suv_TamilNadu_Dealer3', 'Sedan_TamilNadu_Dealer3',\n",
       "       'Compact_SUV_AndraPradesh_Dealer1', 'Suv_AndraPradesh_Dealer1',\n",
       "       'Sedan_AndraPradesh_Dealer1', 'Compact_SUV_AndraPradesh_Dealer2',\n",
       "       'Suv_AndraPradesh_Dealer2', 'Sedan_AndraPradesh_Dealer2',\n",
       "       'Compact_SUV_AndraPradesh_Dealer3', 'Suv_AndraPradesh_Dealer3',\n",
       "       'Sedan_AndraPradesh_Dealer3', 'Horse_Power', 'Fuel_Type', 'Promotions',\n",
       "       'Resale_Value', 'Competitors', 'Holiday', 'Temperature', 'Petrol_Price',\n",
       "       'diesel_price', 'electric_price_per_unit', 'Import_Charges',\n",
       "       'Export_Charges', 'Inflation_Rate', 'Car_Interest_Rates', 'Event_Flag',\n",
       "       'Event_Intensity', 'Sentiment', 'Impacted_Days', 'Season_Summer',\n",
       "       'Season_Winter', 'campaign_No campaign', 'campaign_Summer Campaign',\n",
       "       'campaign_Winter Campaign', 'Event_No Event', 'Event_Political Unrest',\n",
       "       'Event_Protest', 'Event_Riot', 'Event_War', 'Month', 'Day'],\n",
       "      dtype='object')"
      ]
     },
     "execution_count": 3,
     "metadata": {},
     "output_type": "execute_result"
    }
   ],
   "source": [
    "data.columns"
   ]
  },
  {
   "cell_type": "code",
   "execution_count": 4,
   "metadata": {},
   "outputs": [],
   "source": [
    "lr_object  = LinearMethod()"
   ]
  },
  {
   "cell_type": "code",
   "execution_count": 5,
   "metadata": {},
   "outputs": [
    {
     "name": "stderr",
     "output_type": "stream",
     "text": [
      "d:\\Futuretech\\Trend_Modelling\\Trend\\trend_inf.py:50: SettingWithCopyWarning: \n",
      "A value is trying to be set on a copy of a slice from a DataFrame.\n",
      "Try using .loc[row_indexer,col_indexer] = value instead\n",
      "\n",
      "See the caveats in the documentation: https://pandas.pydata.org/pandas-docs/stable/user_guide/indexing.html#returning-a-view-versus-a-copy\n",
      "  training_df.loc[:, 'x'] = list(x_var)\n"
     ]
    },
    {
     "data": {
      "text/plain": [
       "{'lr_model': LinearRegression(),\n",
       " 'slope': 0.3332989956379162,\n",
       " 'first_point': 685,\n",
       " 'last_point': 845,\n",
       " 'first_lr_point': 615.747824718072,\n",
       " 'last_lr_point': 831.0589759001659,\n",
       " 'percentage_change': 18.93491124260355,\n",
       " 'max': 986,\n",
       " 'min': 368}"
      ]
     },
     "execution_count": 5,
     "metadata": {},
     "output_type": "execute_result"
    }
   ],
   "source": [
    "lr_object.infer(data, 'Date', \"SUV\")"
   ]
  },
  {
   "cell_type": "code",
   "execution_count": 6,
   "metadata": {},
   "outputs": [],
   "source": [
    "pr_object = ProphetMethod()"
   ]
  },
  {
   "cell_type": "code",
   "execution_count": 7,
   "metadata": {},
   "outputs": [
    {
     "name": "stderr",
     "output_type": "stream",
     "text": [
      "d:\\Futuretech\\Trend_Modelling\\Trend\\trend_inf.py:95: SettingWithCopyWarning: \n",
      "A value is trying to be set on a copy of a slice from a DataFrame.\n",
      "Try using .loc[row_indexer,col_indexer] = value instead\n",
      "\n",
      "See the caveats in the documentation: https://pandas.pydata.org/pandas-docs/stable/user_guide/indexing.html#returning-a-view-versus-a-copy\n",
      "  training_df['ds'] = pd.to_datetime(training_df['ds'])\n"
     ]
    },
    {
     "name": "stderr",
     "output_type": "stream",
     "text": [
      "17:20:43 - cmdstanpy - INFO - Chain [1] start processing\n",
      "17:20:43 - cmdstanpy - INFO - Chain [1] done processing\n"
     ]
    },
    {
     "data": {
      "text/plain": [
       "{'last_section_lr': LinearRegression(),\n",
       " 'last_change_point_index': 181,\n",
       " 'last_change_point_value': 602,\n",
       " 'last_change_point_date': Timestamp('2022-07-01 00:00:00'),\n",
       " 'last_point_index': 646,\n",
       " 'last_point_value': 845,\n",
       " 'last_change_date': Timestamp('2023-10-09 00:00:00'),\n",
       " 'percentage_change': 28.757396449704142,\n",
       " 'last_section_max': 986,\n",
       " 'last_section_min': 530}"
      ]
     },
     "execution_count": 7,
     "metadata": {},
     "output_type": "execute_result"
    }
   ],
   "source": [
    "pr_object.infer(data, 'Date', \"SUV\")\n"
   ]
  },
  {
   "cell_type": "code",
   "execution_count": 8,
   "metadata": {},
   "outputs": [
    {
     "name": "stderr",
     "output_type": "stream",
     "text": [
      "d:\\Futuretech\\Trend_Modelling\\Trend\\trend_inf.py:95: SettingWithCopyWarning: \n",
      "A value is trying to be set on a copy of a slice from a DataFrame.\n",
      "Try using .loc[row_indexer,col_indexer] = value instead\n",
      "\n",
      "See the caveats in the documentation: https://pandas.pydata.org/pandas-docs/stable/user_guide/indexing.html#returning-a-view-versus-a-copy\n",
      "  training_df['ds'] = pd.to_datetime(training_df['ds'])\n",
      "17:20:43 - cmdstanpy - INFO - Chain [1] start processing\n",
      "17:20:44 - cmdstanpy - INFO - Chain [1] done processing\n"
     ]
    },
    {
     "data": {
      "text/plain": [
       "'The current kpi kpi1 has increased 28.8% since 01-07-2022 from 602 to 845.'"
      ]
     },
     "execution_count": 8,
     "metadata": {},
     "output_type": "execute_result"
    }
   ],
   "source": [
    "pr_object.sentence_maker(data, 'Date', \"SUV\", 'kpi1')"
   ]
  },
  {
   "cell_type": "code",
   "execution_count": 9,
   "metadata": {},
   "outputs": [
    {
     "name": "stderr",
     "output_type": "stream",
     "text": [
      "d:\\Futuretech\\Trend_Modelling\\Trend\\trend_inf.py:95: SettingWithCopyWarning: \n",
      "A value is trying to be set on a copy of a slice from a DataFrame.\n",
      "Try using .loc[row_indexer,col_indexer] = value instead\n",
      "\n",
      "See the caveats in the documentation: https://pandas.pydata.org/pandas-docs/stable/user_guide/indexing.html#returning-a-view-versus-a-copy\n",
      "  training_df['ds'] = pd.to_datetime(training_df['ds'])\n"
     ]
    },
    {
     "name": "stderr",
     "output_type": "stream",
     "text": [
      "17:20:44 - cmdstanpy - INFO - Chain [1] start processing\n",
      "17:20:44 - cmdstanpy - INFO - Chain [1] done processing\n",
      "d:\\Futuretech\\Trend_Modelling\\Trend\\trend_inf.py:95: SettingWithCopyWarning: \n",
      "A value is trying to be set on a copy of a slice from a DataFrame.\n",
      "Try using .loc[row_indexer,col_indexer] = value instead\n",
      "\n",
      "See the caveats in the documentation: https://pandas.pydata.org/pandas-docs/stable/user_guide/indexing.html#returning-a-view-versus-a-copy\n",
      "  training_df['ds'] = pd.to_datetime(training_df['ds'])\n",
      "17:20:45 - cmdstanpy - INFO - Chain [1] start processing\n",
      "17:20:45 - cmdstanpy - INFO - Chain [1] done processing\n"
     ]
    }
   ],
   "source": [
    "trend_generator = ProphetHandler(successor=LinearHandler)\n",
    "\n",
    "statement = trend_generator.handle_request(data, 'Date', \"SUV\", 'kpi1')"
   ]
  },
  {
   "cell_type": "code",
   "execution_count": 10,
   "metadata": {},
   "outputs": [
    {
     "name": "stdout",
     "output_type": "stream",
     "text": [
      "The current kpi kpi1 has increased 28.8% since 01-07-2022 from 602 to 845.\n"
     ]
    }
   ],
   "source": [
    "print (statement)"
   ]
  }
 ],
 "metadata": {
  "kernelspec": {
   "display_name": "Python 3",
   "language": "python",
   "name": "python3"
  },
  "language_info": {
   "codemirror_mode": {
    "name": "ipython",
    "version": 3
   },
   "file_extension": ".py",
   "mimetype": "text/x-python",
   "name": "python",
   "nbconvert_exporter": "python",
   "pygments_lexer": "ipython3",
   "version": "3.10.11"
  }
 },
 "nbformat": 4,
 "nbformat_minor": 2
}
